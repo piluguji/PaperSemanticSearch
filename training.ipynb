{
 "cells": [
  {
   "cell_type": "code",
   "execution_count": 1,
   "metadata": {},
   "outputs": [
    {
     "name": "stderr",
     "output_type": "stream",
     "text": [
      "c:\\Users\\pilug\\Documents\\PaperSemanticSearch\\.venv\\lib\\site-packages\\tqdm\\auto.py:21: TqdmWarning: IProgress not found. Please update jupyter and ipywidgets. See https://ipywidgets.readthedocs.io/en/stable/user_install.html\n",
      "  from .autonotebook import tqdm as notebook_tqdm\n"
     ]
    }
   ],
   "source": [
    "import torch\n",
    "import json\n",
    "import torch.nn as nn\n",
    "import torch.optim as optim\n",
    "from transformers import AutoModel, AutoTokenizer\n",
    "from torch.utils.data import Dataset, DataLoader\n",
    "\n",
    "class TripletDataset(Dataset):\n",
    "    def __init__(self, json_path, tokenizer, max_length=512):\n",
    "        \"\"\"\n",
    "        Args:\n",
    "            json_path (str): Path to JSON file containing triplets\n",
    "            tokenizer: HuggingFace tokenizer\n",
    "            max_length (int): Maximum sequence length for tokenization\n",
    "        \"\"\"\n",
    "        # Load JSON data\n",
    "        with open(json_path, 'r') as f:\n",
    "            self.data = json.load(f)\n",
    "            \n",
    "        self.tokenizer = tokenizer\n",
    "        self.max_length = max_length\n",
    "        \n",
    "    def __len__(self):\n",
    "        return len(self.data)\n",
    "    \n",
    "    def __getitem__(self, idx):\n",
    "        # Get single triplet example\n",
    "        item = self.data[idx]\n",
    "        \n",
    "        # Tokenize the query\n",
    "        query_encoding = self.tokenizer(\n",
    "            item['question'],\n",
    "            max_length=self.max_length,\n",
    "            padding='max_length',\n",
    "            truncation=True,\n",
    "            return_tensors='pt'\n",
    "        )\n",
    "        \n",
    "        # Convert embeddings to tensors\n",
    "        # Assuming embeddings in JSON are stored as lists or arrays\n",
    "        positive_emb = torch.tensor(item['positive'], dtype=torch.float)\n",
    "        negative_emb = torch.tensor(item['negative'], dtype=torch.float)\n",
    "        \n",
    "        return {\n",
    "            'query_ids': query_encoding['input_ids'].squeeze(),\n",
    "            'query_mask': query_encoding['attention_mask'].squeeze(),\n",
    "            'positive_embedding': positive_emb,\n",
    "            'negative_embedding': negative_emb\n",
    "        }\n",
    "    \n",
    "class TripletLoss(nn.Module):\n",
    "    def __init__(self, margin=0.2):\n",
    "        super(TripletLoss, self).__init__()\n",
    "        self.margin = margin\n",
    "        self.cosine = nn.CosineSimilarity(dim=1)\n",
    "        \n",
    "    def forward(self, anchor, positive, negative):\n",
    "        # Compute cosine similarities\n",
    "        similarity_positive = self.cosine(anchor, positive)  # Higher means more similar\n",
    "        similarity_negative = self.cosine(anchor, negative)  # Higher means more similar\n",
    "        \n",
    "        # Loss = max(0, margin - (pos_sim - neg_sim))\n",
    "        # We want positive similarity to be higher than negative similarity by at least the margin\n",
    "        losses = torch.relu(self.margin - (similarity_positive - similarity_negative))\n",
    "        \n",
    "        return losses.mean()\n",
    "    \n",
    "class TripletBERTModel(nn.Module):\n",
    "    def __init__(self, model_name='allenai/scibert_scivocab_uncased', freeze_layers=True):\n",
    "        super(TripletBERTModel, self).__init__()\n",
    "        self.bert = AutoModel.from_pretrained(model_name)\n",
    "        \n",
    "        if freeze_layers:\n",
    "            # Freeze all layers except the last transformer layer\n",
    "            for name, param in self.bert.named_parameters():\n",
    "                if \"encoder.layer.11\" not in name:  # 11 is the last layer (0-11)\n",
    "                    param.requires_grad = False\n",
    "        \n",
    "    def forward(self, input_ids, attention_mask):\n",
    "        outputs = self.bert(input_ids=input_ids, attention_mask=attention_mask)\n",
    "        return outputs.last_hidden_state[:, 0, :]"
   ]
  },
  {
   "cell_type": "code",
   "execution_count": 2,
   "metadata": {},
   "outputs": [],
   "source": [
    "from tqdm import tqdm\n",
    "\n",
    "\n",
    "losses = []\n",
    "\n",
    "\n",
    "def train_model(model, train_loader, num_epochs, learning_rate, device):\n",
    "    optimizer = optim.AdamW(model.parameters(), lr=learning_rate)\n",
    "    criterion = TripletLoss()\n",
    "    \n",
    "    model.train()\n",
    "    \n",
    "    # epoch_pbar = tqdm(range(num_epochs), desc='Epochs', position=0)\n",
    "\n",
    "    for epoch in range(num_epochs):\n",
    "        total_loss = 0\n",
    "        # Create batch progress bar\n",
    "        batch_pbar = tqdm(train_loader, desc=f'Epoch {epoch+1}', \n",
    "                         leave=False, position=0)\n",
    "        \n",
    "        for batch in batch_pbar:\n",
    "            # Move batch to device\n",
    "            query_ids = batch['query_ids'].to(device)\n",
    "            query_mask = batch['query_mask'].to(device)\n",
    "            positive_emb = batch['positive_embedding'].to(device)\n",
    "            negative_emb = batch['negative_embedding'].to(device)\n",
    "            \n",
    "            # Get query embedding\n",
    "            query_emb = model(query_ids, query_mask)\n",
    "            \n",
    "            # Calculate loss using pre-encoded embeddings\n",
    "            loss = criterion(query_emb, positive_emb, negative_emb)\n",
    "            \n",
    "            # Backpropagation\n",
    "            optimizer.zero_grad()\n",
    "            loss.backward()\n",
    "            optimizer.step()\n",
    "            \n",
    "            total_loss += loss.item()\n",
    "            \n",
    "            # Update batch progress bar\n",
    "            batch_pbar.set_postfix({'loss': f'{loss.item():.4f}'})\n",
    "            \n",
    "        avg_loss = total_loss / len(train_loader)\n",
    "        losses.append(avg_loss)\n",
    "        # Update epoch progress bar\n",
    "        # epoch_pbar.set_postfix({'avg_loss': f'{avg_loss:.4f}'})\n",
    "    \n",
    "    return model"
   ]
  },
  {
   "cell_type": "code",
   "execution_count": 3,
   "metadata": {},
   "outputs": [],
   "source": [
    "tokenizer = AutoTokenizer.from_pretrained('allenai/scibert_scivocab_uncased')\n",
    "dataset = TripletDataset(\n",
    "        json_path='triplets.json',\n",
    "        tokenizer=tokenizer\n",
    "    )\n",
    "    \n",
    "# Create dataloader\n",
    "train_loader = DataLoader(\n",
    "    dataset,\n",
    "    batch_size=32,\n",
    "    shuffle=True\n",
    ")"
   ]
  },
  {
   "cell_type": "code",
   "execution_count": 5,
   "metadata": {},
   "outputs": [
    {
     "name": "stderr",
     "output_type": "stream",
     "text": [
      "                                                                         \r"
     ]
    }
   ],
   "source": [
    "model = TripletBERTModel()\n",
    "device = torch.device('cuda' if torch.cuda.is_available() else 'cpu')\n",
    "model.to(device)\n",
    "\n",
    "model = train_model(\n",
    "        model=model,\n",
    "        train_loader=train_loader,\n",
    "        num_epochs=100,\n",
    "        learning_rate=2e-5,\n",
    "        device=device\n",
    "    )\n",
    "    \n",
    "# Save the model\n",
    "torch.save(model.state_dict(), 'triplet_scibert.pt')"
   ]
  },
  {
   "cell_type": "code",
   "execution_count": 15,
   "metadata": {},
   "outputs": [
    {
     "data": {
      "image/png": "[encoded data removed]",
      "text/plain": [
       "<Figure size 640x480 with 1 Axes>"
      ]
     },
     "metadata": {},
     "output_type": "display_data"
    }
   ],
   "source": [
    "import matplotlib.pyplot as plt\n",
    "\n",
    "# Plot the list\n",
    "plt.plot(losses, marker='o', linestyle='-', color='b')\n",
    "\n",
    "# Add labels and title\n",
    "plt.xlabel('epochs')\n",
    "plt.ylabel('loss')\n",
    "\n",
    "# Show the plot\n",
    "plt.show()\n"
   ]
  },
  {
   "cell_type": "markdown",
   "metadata": {},
   "source": [
    "# Testing"
   ]
  },
  {
   "cell_type": "code",
   "execution_count": 4,
   "metadata": {},
   "outputs": [
    {
     "name": "stderr",
     "output_type": "stream",
     "text": [
      "C:\\Users\\pilug\\AppData\\Local\\Temp\\ipykernel_19128\\3206792247.py:7: FutureWarning: You are using `torch.load` with `weights_only=False` (the current default value), which uses the default pickle module implicitly. It is possible to construct malicious pickle data which will execute arbitrary code during unpickling (See https://github.com/pytorch/pytorch/blob/main/SECURITY.md#untrusted-models for more details). In a future release, the default value for `weights_only` will be flipped to `True`. This limits the functions that could be executed during unpickling. Arbitrary objects will no longer be allowed to be loaded via this mode unless they are explicitly allowlisted by the user via `torch.serialization.add_safe_globals`. We recommend you start setting `weights_only=True` for any use case where you don't have full control of the loaded file. Please open an issue on GitHub for any issues related to this experimental feature.\n",
      "  model.load_state_dict(torch.load('triplet_scibert.pt', map_location=device))\n"
     ]
    },
    {
     "data": {
      "text/plain": [
       "TripletBERTModel(\n",
       "  (bert): BertModel(\n",
       "    (embeddings): BertEmbeddings(\n",
       "      (word_embeddings): Embedding(31090, 768, padding_idx=0)\n",
       "      (position_embeddings): Embedding(512, 768)\n",
       "      (token_type_embeddings): Embedding(2, 768)\n",
       "      (LayerNorm): LayerNorm((768,), eps=1e-12, elementwise_affine=True)\n",
       "      (dropout): Dropout(p=0.1, inplace=False)\n",
       "    )\n",
       "    (encoder): BertEncoder(\n",
       "      (layer): ModuleList(\n",
       "        (0-11): 12 x BertLayer(\n",
       "          (attention): BertAttention(\n",
       "            (self): BertSdpaSelfAttention(\n",
       "              (query): Linear(in_features=768, out_features=768, bias=True)\n",
       "              (key): Linear(in_features=768, out_features=768, bias=True)\n",
       "              (value): Linear(in_features=768, out_features=768, bias=True)\n",
       "              (dropout): Dropout(p=0.1, inplace=False)\n",
       "            )\n",
       "            (output): BertSelfOutput(\n",
       "              (dense): Linear(in_features=768, out_features=768, bias=True)\n",
       "              (LayerNorm): LayerNorm((768,), eps=1e-12, elementwise_affine=True)\n",
       "              (dropout): Dropout(p=0.1, inplace=False)\n",
       "            )\n",
       "          )\n",
       "          (intermediate): BertIntermediate(\n",
       "            (dense): Linear(in_features=768, out_features=3072, bias=True)\n",
       "            (intermediate_act_fn): GELUActivation()\n",
       "          )\n",
       "          (output): BertOutput(\n",
       "            (dense): Linear(in_features=3072, out_features=768, bias=True)\n",
       "            (LayerNorm): LayerNorm((768,), eps=1e-12, elementwise_affine=True)\n",
       "            (dropout): Dropout(p=0.1, inplace=False)\n",
       "          )\n",
       "        )\n",
       "      )\n",
       "    )\n",
       "    (pooler): BertPooler(\n",
       "      (dense): Linear(in_features=768, out_features=768, bias=True)\n",
       "      (activation): Tanh()\n",
       "    )\n",
       "  )\n",
       ")"
      ]
     },
     "execution_count": 4,
     "metadata": {},
     "output_type": "execute_result"
    }
   ],
   "source": [
    "# Load the model architecture and weights\n",
    "model = TripletBERTModel()\n",
    "device = torch.device('cuda' if torch.cuda.is_available() else 'cpu')\n",
    "model.to(device)\n",
    "\n",
    "# Load the saved weights\n",
    "model.load_state_dict(torch.load('triplet_scibert.pt', map_location=device))\n",
    "model.eval()  # Set the model to evaluation mode"
   ]
  },
  {
   "cell_type": "code",
   "execution_count": 6,
   "metadata": {},
   "outputs": [
    {
     "name": "stderr",
     "output_type": "stream",
     "text": [
      "C:\\Users\\pilug\\AppData\\Local\\Temp\\ipykernel_19128\\2609320156.py:41: FutureWarning: You are using `torch.load` with `weights_only=False` (the current default value), which uses the default pickle module implicitly. It is possible to construct malicious pickle data which will execute arbitrary code during unpickling (See https://github.com/pytorch/pytorch/blob/main/SECURITY.md#untrusted-models for more details). In a future release, the default value for `weights_only` will be flipped to `True`. This limits the functions that could be executed during unpickling. Arbitrary objects will no longer be allowed to be loaded via this mode unless they are explicitly allowlisted by the user via `torch.serialization.add_safe_globals`. We recommend you start setting `weights_only=True` for any use case where you don't have full control of the loaded file. Please open an issue on GitHub for any issues related to this experimental feature.\n",
      "  paper_embeddings = torch.stack(torch.load('embeddings.pt')).to(device).squeeze(1)  # Shape: (num_papers, embedding_dim)\n"
     ]
    }
   ],
   "source": [
    "from transformers import AutoTokenizer\n",
    "import pandas as pd\n",
    "import torch.nn.functional as F\n",
    "\n",
    "# Load the same tokenizer used during training\n",
    "tokenizer = AutoTokenizer.from_pretrained('allenai/scibert_scivocab_uncased')\n",
    "\n",
    "# Define a function to generate the embedding for a given text\n",
    "def generate_embedding(text, model, tokenizer, device):\n",
    "    # Tokenize the text\n",
    "    inputs = tokenizer(text, return_tensors=\"pt\", padding=True, truncation=True, max_length=512)\n",
    "    input_ids = inputs['input_ids'].to(device)\n",
    "    attention_mask = inputs['attention_mask'].to(device)\n",
    "\n",
    "    # Generate the embedding\n",
    "    with torch.no_grad():\n",
    "        embedding = model(input_ids, attention_mask)\n",
    "    return embedding\n",
    "\n",
    "# Define a function to find the most similar paper\n",
    "def find_most_similar_paper(query, model, tokenizer, paper_embeddings, device):\n",
    "    # Generate query embedding\n",
    "    query_embedding = generate_embedding(query, model, tokenizer, device)  # Shape: (1, embedding_dim)\n",
    "\n",
    "    # Compute cosine similarities\n",
    "    similarities = F.cosine_similarity(query_embedding, paper_embeddings, dim=1)  # Shape: (num_papers,)\n",
    "    \n",
    "    # Find the most similar paper\n",
    "    best_match_idx = torch.argmax(similarities).item()\n",
    "    best_match_similarity = similarities[best_match_idx].item()\n",
    "    \n",
    "    return best_match_idx, best_match_similarity\n",
    "\n",
    "def get_similar_papers(paper, embeddings, top_k = 3):\n",
    "    similarities = F.cosine_similarity(paper, embeddings)\n",
    "    top_indices = similarities.argsort()[-top_k - 1:]\n",
    "\n",
    "    return top_indices.tolist()[:-1]\n",
    "\n",
    "# Load precomputed embeddings for your papers (e.g., from a .pt file)\n",
    "paper_embeddings = torch.stack(torch.load('embeddings.pt')).to(device).squeeze(1)  # Shape: (num_papers, embedding_dim)\n",
    "papers = pd.read_json('papers.json', orient='records', lines=True)"
   ]
  },
  {
   "cell_type": "code",
   "execution_count": 28,
   "metadata": {},
   "outputs": [
    {
     "name": "stdout",
     "output_type": "stream",
     "text": [
      "Best match: We introduce a new cryptographic protocol, called Deep Ocean, that implements\n",
      "a blockchain-agnostic dark pool for cryptocurrencies. Deep Ocean is a layer-two\n",
      "protocol, meaning that it can work with any two cryptocurrencies, as long as\n",
      "there exists an underlying settlement mechanism, for example performing atomic\n",
      "swaps.\n",
      "Similarity: 0.4494\n"
     ]
    }
   ],
   "source": [
    "query = \"How will quantum computing affect blockchain currencies and crytocurrencies?\"\n",
    "\n",
    "# Find the most similar paper\n",
    "idx, best_match_similarity = find_most_similar_paper(\n",
    "    query, model, tokenizer, paper_embeddings, device\n",
    ")\n",
    "\n",
    "print(f\"Best match: {papers.iloc[idx]['summary']}\")\n",
    "print(f\"Similarity: {best_match_similarity:.4f}\")"
   ]
  },
  {
   "cell_type": "code",
   "execution_count": 29,
   "metadata": {},
   "outputs": [
    {
     "name": "stdout",
     "output_type": "stream",
     "text": [
      "Anonymous State Pinning for Private Blockchains\n",
      "Cross-Blockchain Communication Using Oracles With an Off-Chain\n",
      "  Aggregation Mechanism Based on zk-SNARKs\n",
      "Testimonium: A Cost-Efficient Blockchain Relay\n"
     ]
    },
    {
     "ename": "",
     "evalue": "",
     "output_type": "error",
     "traceback": [
      "\u001b[1;31mThe Kernel crashed while executing code in the current cell or a previous cell. \n",
      "\u001b[1;31mPlease review the code in the cell(s) to identify a possible cause of the failure. \n",
      "\u001b[1;31mClick <a href='https://aka.ms/vscodeJupyterKernelCrash'>here</a> for more info. \n",
      "\u001b[1;31mView Jupyter <a href='command:jupyter.viewOutput'>log</a> for further details."
     ]
    }
   ],
   "source": [
    "idices = get_similar_papers(paper_embeddings[idx], paper_embeddings)\n",
    "\n",
    "for i in idices: \n",
    "    print(papers.iloc[i]['title'])"
   ]
  }
 ],
 "metadata": {
  "kernelspec": {
   "display_name": ".venv",
   "language": "python",
   "name": "python3"
  },
  "language_info": {
   "codemirror_mode": {
    "name": "ipython",
    "version": 3
   },
   "file_extension": ".py",
   "mimetype": "text/x-python",
   "name": "python",
   "nbconvert_exporter": "python",
   "pygments_lexer": "ipython3",
   "version": "3.10.0"
  }
 },
 "nbformat": 4,
 "nbformat_minor": 2
}
