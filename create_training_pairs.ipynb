{
 "cells": [
  {
   "cell_type": "code",
   "execution_count": 4,
   "metadata": {},
   "outputs": [],
   "source": [
    "import requests\n",
    "import xmltodict\n",
    "import pandas as pd\n",
    "import numpy as np\n",
    "import matplotlib.pyplot as plt\n",
    "from dotenv import load_dotenv\n",
    "import os\n",
    "import torch\n",
    "import time\n",
    "from tqdm import tqdm\n",
    "import torch\n",
    "import torch.nn.functional as F\n",
    "import random"
   ]
  },
  {
   "cell_type": "code",
   "execution_count": 2,
   "metadata": {},
   "outputs": [
    {
     "name": "stderr",
     "output_type": "stream",
     "text": [
      "C:\\Users\\pilug\\AppData\\Local\\Temp\\ipykernel_17936\\2889146714.py:2: FutureWarning: You are using `torch.load` with `weights_only=False` (the current default value), which uses the default pickle module implicitly. It is possible to construct malicious pickle data which will execute arbitrary code during unpickling (See https://github.com/pytorch/pytorch/blob/main/SECURITY.md#untrusted-models for more details). In a future release, the default value for `weights_only` will be flipped to `True`. This limits the functions that could be executed during unpickling. Arbitrary objects will no longer be allowed to be loaded via this mode unless they are explicitly allowlisted by the user via `torch.serialization.add_safe_globals`. We recommend you start setting `weights_only=True` for any use case where you don't have full control of the loaded file. Please open an issue on GitHub for any issues related to this experimental feature.\n",
      "  existing_embeddings = torch.load(embedding_file)\n"
     ]
    }
   ],
   "source": [
    "embedding_file = \"embeddings.pt\"\n",
    "existing_embeddings = torch.load(embedding_file)\n",
    "papers = pd.read_json('papers.json', orient='records', lines=True)\n",
    "questions = pd.read_json('questions.json', orient='records', lines=True).T"
   ]
  },
  {
   "cell_type": "code",
   "execution_count": 23,
   "metadata": {},
   "outputs": [
    {
     "name": "stdout",
     "output_type": "stream",
     "text": [
      "Chemical engineering of CRISPR-Cas systems for therapeutic application.\n",
      "CRISPR/Cas9-Engineering for Increased Amylolytic Potential of Microbes for Sustainable Wastewater Treatment: A Review.\n",
      "Bidirectional Prime Editing: Combining Precision with Versatility for Genome Editing.\n",
      "Automated plasmid design for marker-free genome editing in budding yeast.\n",
      "Chiral nanosystem and chiral supraparticles for drug delivery: an expert opinion.\n",
      "Increasing Rubisco as a simple means to enhance photosynthesis and productivity now without lowering nitrogen use efficiency.\n",
      "Anionic polymer coating for enhanced delivery of Cas9 mRNA and sgRNA nanoplexes.\n"
     ]
    },
    {
     "ename": "IndexError",
     "evalue": "list index out of range",
     "output_type": "error",
     "traceback": [
      "\u001b[1;31m---------------------------------------------------------------------------\u001b[0m",
      "\u001b[1;31mIndexError\u001b[0m                                Traceback (most recent call last)",
      "Cell \u001b[1;32mIn[23], line 4\u001b[0m\n\u001b[0;32m      2\u001b[0m \u001b[38;5;28mprint\u001b[39m(papers\u001b[38;5;241m.\u001b[39miloc[i][\u001b[38;5;124m'\u001b[39m\u001b[38;5;124mtitle\u001b[39m\u001b[38;5;124m'\u001b[39m])\n\u001b[0;32m      3\u001b[0m \u001b[38;5;28;01mfor\u001b[39;00m q \u001b[38;5;129;01min\u001b[39;00m questions\u001b[38;5;241m.\u001b[39miloc[i][\u001b[38;5;241m0\u001b[39m][\u001b[38;5;124m'\u001b[39m\u001b[38;5;124m0\u001b[39m\u001b[38;5;124m'\u001b[39m][\u001b[38;5;124m'\u001b[39m\u001b[38;5;124m0\u001b[39m\u001b[38;5;124m'\u001b[39m]\u001b[38;5;241m.\u001b[39msplit(\u001b[38;5;124m'\u001b[39m\u001b[38;5;130;01m\\n\u001b[39;00m\u001b[38;5;124m'\u001b[39m):\n\u001b[1;32m----> 4\u001b[0m     question \u001b[38;5;241m=\u001b[39m \u001b[43mq\u001b[49m\u001b[38;5;241;43m.\u001b[39;49m\u001b[43msplit\u001b[49m\u001b[43m(\u001b[49m\u001b[38;5;124;43m'\u001b[39;49m\u001b[38;5;124;43m:\u001b[39;49m\u001b[38;5;124;43m'\u001b[39;49m\u001b[43m)\u001b[49m\u001b[43m[\u001b[49m\u001b[38;5;241;43m1\u001b[39;49m\u001b[43m]\u001b[49m\u001b[38;5;241m.\u001b[39mstrip()\n",
      "\u001b[1;31mIndexError\u001b[0m: list index out of range"
     ]
    }
   ],
   "source": [
    "triplets = []\n",
    "\n",
    "def create_training_pair(question, paper_embedding, irrelevant_embedding):\n",
    "    return {\n",
    "            \"question\": question,\n",
    "            \"positive\": paper_embedding.tolist(),\n",
    "            \"negative\": irrelevant_embedding.tolist()\n",
    "        }\n",
    "\n",
    "def get_irrelevant_embedding(paper_embedding):\n",
    "    existing_embeddings_tensor = torch.stack(existing_embeddings)  # Assuming each element in the list is a tensor\n",
    "    cos_similarities = F.cosine_similarity(paper_embedding, existing_embeddings_tensor)\n",
    "\n",
    "    similarity_threshold = 0.3  # You can adjust this threshold to determine how \"distant\" the papers should be\n",
    "\n",
    "    indices_below_threshold = torch.where(cos_similarities < similarity_threshold)[0]\n",
    "    return indices_below_threshold\n",
    "\n",
    "for i in tqdm(range(len(papers))):\n",
    "    paper_embedding = existing_embeddings[i]\n",
    "    irrelevant_embeddings = get_irrelevant_embedding(paper_embedding)\n",
    "    for q in questions.iloc[i][0]['0']['0'].split('\\n'):\n",
    "        if ':' in q: \n",
    "            question = q.split(':')[1].strip()\n",
    "            idx = random.choice(irrelevant_embeddings)\n",
    "            irrelevant = paper_embedding[idx]\n",
    "\n",
    "            create_training_pair(question, paper_embedding, irrelevant)"
   ]
  }
 ],
 "metadata": {
  "kernelspec": {
   "display_name": ".venv",
   "language": "python",
   "name": "python3"
  },
  "language_info": {
   "codemirror_mode": {
    "name": "ipython",
    "version": 3
   },
   "file_extension": ".py",
   "mimetype": "text/x-python",
   "name": "python",
   "nbconvert_exporter": "python",
   "pygments_lexer": "ipython3",
   "version": "3.10.0"
  }
 },
 "nbformat": 4,
 "nbformat_minor": 2
}
