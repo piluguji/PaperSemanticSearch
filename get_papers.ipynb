{
 "cells": [
  {
   "cell_type": "code",
   "execution_count": null,
   "metadata": {},
   "outputs": [
    {
     "name": "stdout",
     "output_type": "stream",
     "text": [
      "                                  id  \\\n",
      "0  http://arxiv.org/abs/1909.03550v1   \n",
      "1  http://arxiv.org/abs/1811.04422v1   \n",
      "2  http://arxiv.org/abs/1707.04849v1   \n",
      "3  http://arxiv.org/abs/1909.09246v1   \n",
      "4  http://arxiv.org/abs/2301.09753v1   \n",
      "\n",
      "                                               title  \\\n",
      "0   Lecture Notes: Optimization for Machine Learning   \n",
      "1  An Optimal Control View of Adversarial Machine...   \n",
      "2  Minimax deviation strategies for machine learn...   \n",
      "3  Machine Learning for Clinical Predictive Analy...   \n",
      "4  Towards Modular Machine Learning Solution Deve...   \n",
      "\n",
      "                                             summary             published  \\\n",
      "0  Lecture notes on optimization for machine lear...  2019-09-08T21:49:42Z   \n",
      "1  I describe an optimal control view of adversar...  2018-11-11T14:28:34Z   \n",
      "2  The article is devoted to the problem of small...  2017-07-16T09:15:08Z   \n",
      "3  In this chapter, we provide a brief overview o...  2019-09-19T22:02:00Z   \n",
      "4  Machine learning technologies have demonstrate...  2023-01-23T22:54:34Z   \n",
      "\n",
      "  category             query  \n",
      "0    cs.LG  machine learning  \n",
      "1    cs.LG  machine learning  \n",
      "2    cs.LG  machine learning  \n",
      "3    cs.LG  machine learning  \n",
      "4    cs.LG  machine learning  \n"
     ]
    }
   ],
   "source": [
    "import requests\n",
    "import xmltodict\n",
    "import pandas as pd\n",
    "\n",
    "def fetch_arxiv_papers(query=\"all\", max_results=50):\n",
    "    \"\"\"\n",
    "    Fetches papers from arXiv based on a query.\n",
    "    \n",
    "    Args:\n",
    "        query (str): Search term or category.\n",
    "        max_results (int): Number of papers to retrieve.\n",
    "        \n",
    "    Returns:\n",
    "        DataFrame: Contains titles, abstracts, and arXiv IDs.\n",
    "    \"\"\"\n",
    "    base_url = \"http://export.arxiv.org/api/query?\"\n",
    "    url = f\"{base_url}search_query={query}&start=0&max_results={max_results}\"\n",
    "\n",
    "    response = requests.get(url)\n",
    "    if response.status_code != 200:\n",
    "        raise Exception(f\"Error: Unable to fetch data (Status: {response.status_code})\")\n",
    "\n",
    "    data = xmltodict.parse(response.content)\n",
    "    if 'entry' not in data['feed']:\n",
    "        return pd.DataFrame()\n",
    "    entries = data['feed']['entry']\n",
    "    \n",
    "    # Parse entries into a DataFrame\n",
    "    papers = []\n",
    "    for entry in entries:\n",
    "        papers.append({\n",
    "            \"id\": entry[\"id\"],\n",
    "            \"title\": entry[\"title\"].strip(),\n",
    "            \"summary\": entry[\"summary\"].strip(),\n",
    "            \"published\": entry[\"published\"],\n",
    "            \"category\": entry[\"arxiv:primary_category\"][\"@term\"],\n",
    "            \"query\": query\n",
    "        })\n",
    "\n",
    "    return pd.DataFrame(papers)\n",
    "\n",
    "# Example Usage\n",
    "\n",
    "queries = ['machine learning', '3D computer vision', 'DNA', 'Nuclear Theory'] \n",
    "\n",
    "df = pd.DataFrame()\n",
    "\n",
    "for query in queries: \n",
    "    papers_df = fetch_arxiv_papers(query=query, max_results=15)\n",
    "    df = pd.concat([df, papers_df], ignore_index=True)\n",
    "print(df.head())\n"
   ]
  },
  {
   "cell_type": "code",
   "execution_count": 14,
   "metadata": {},
   "outputs": [
    {
     "name": "stdout",
     "output_type": "stream",
     "text": [
      "                                  id  \\\n",
      "0  http://arxiv.org/abs/1909.03550v1   \n",
      "1  http://arxiv.org/abs/1811.04422v1   \n",
      "2  http://arxiv.org/abs/1707.04849v1   \n",
      "3  http://arxiv.org/abs/1909.09246v1   \n",
      "4  http://arxiv.org/abs/2301.09753v1   \n",
      "\n",
      "                                               title  \\\n",
      "0   Lecture Notes: Optimization for Machine Learning   \n",
      "1  An Optimal Control View of Adversarial Machine...   \n",
      "2  Minimax deviation strategies for machine learn...   \n",
      "3  Machine Learning for Clinical Predictive Analy...   \n",
      "4  Towards Modular Machine Learning Solution Deve...   \n",
      "\n",
      "                                             summary             published  \\\n",
      "0  Lecture notes on optimization for machine lear...  2019-09-08T21:49:42Z   \n",
      "1  I describe an optimal control view of adversar...  2018-11-11T14:28:34Z   \n",
      "2  The article is devoted to the problem of small...  2017-07-16T09:15:08Z   \n",
      "3  In this chapter, we provide a brief overview o...  2019-09-19T22:02:00Z   \n",
      "4  Machine learning technologies have demonstrate...  2023-01-23T22:54:34Z   \n",
      "\n",
      "  category             query  \\\n",
      "0    cs.LG  machine learning   \n",
      "1    cs.LG  machine learning   \n",
      "2    cs.LG  machine learning   \n",
      "3    cs.LG  machine learning   \n",
      "4    cs.LG  machine learning   \n",
      "\n",
      "                                                text     PCA_x     PCA_y  \n",
      "0  Lecture Notes: Optimization for Machine Learni...  4.562410  0.404491  \n",
      "1  An Optimal Control View of Adversarial Machine...  4.412632  0.686621  \n",
      "2  Minimax deviation strategies for machine learn...  3.872475  2.055240  \n",
      "3  Machine Learning for Clinical Predictive Analy...  5.887259  2.422690  \n",
      "4  Towards Modular Machine Learning Solution Deve...  8.233409  2.594968  \n"
     ]
    }
   ],
   "source": [
    "queries = ['sentiment analysis', 'black holes', 'hydropower'] \n",
    "\n",
    "for query in queries: \n",
    "    papers_df = fetch_arxiv_papers(query=query, max_results=15)\n",
    "    df = pd.concat([df, papers_df], ignore_index=True)\n",
    "print(df.head())"
   ]
  },
  {
   "cell_type": "code",
   "execution_count": 2,
   "metadata": {},
   "outputs": [
    {
     "name": "stdout",
     "output_type": "stream",
     "text": [
      "Paper 1706.03762 has 112066 citations.\n"
     ]
    }
   ],
   "source": [
    "def get_paper_citations(arxiv_id):\n",
    "    \"\"\"\n",
    "    Fetches the citation count for a paper from Semantic Scholar using the arXiv ID.\n",
    "    \n",
    "    Args:\n",
    "        arxiv_id (str): The arXiv ID of the paper (e.g., \"2103.00020\").\n",
    "        \n",
    "    Returns:\n",
    "        int: Citation count, or None if not found.\n",
    "    \"\"\"\n",
    "    url = f\"https://api.semanticscholar.org/v1/paper/arXiv:{arxiv_id}\"\n",
    "    response = requests.get(url)\n",
    "    if response.status_code == 200:\n",
    "        data = response.json()\n",
    "        return data.get(\"numCitedBy\", 0)\n",
    "    else:\n",
    "        return None\n",
    "\n",
    "# Example usage\n",
    "arxiv_id = \"1706.03762\"  # Replace with a valid arXiv ID\n",
    "citation_count = get_paper_citations(arxiv_id)\n",
    "print(f\"Paper {arxiv_id} has {citation_count} citations.\")\n"
   ]
  },
  {
   "cell_type": "code",
   "execution_count": 15,
   "metadata": {},
   "outputs": [
    {
     "name": "stderr",
     "output_type": "stream",
     "text": [
      "Batches: 100%|██████████| 4/4 [00:01<00:00,  3.26it/s]"
     ]
    },
    {
     "name": "stdout",
     "output_type": "stream",
     "text": [
      "Generated embeddings shape: (105, 384)\n"
     ]
    },
    {
     "name": "stderr",
     "output_type": "stream",
     "text": [
      "\n"
     ]
    }
   ],
   "source": [
    "from sentence_transformers import SentenceTransformer\n",
    "import numpy as np\n",
    "\n",
    "# Load Sentence-BERT model\n",
    "model = SentenceTransformer('all-MiniLM-L6-v2')  # Small, fast model for semantic embeddings\n",
    "\n",
    "# Prepare the text: combine titles and abstracts\n",
    "df['text'] = df['title'] + \". \" + df['summary']\n",
    "\n",
    "# Generate embeddings\n",
    "embeddings = model.encode(df['text'].tolist(), show_progress_bar=True)\n",
    "\n",
    "# Save embeddings as a NumPy array\n",
    "embeddings = np.array(embeddings)\n",
    "print(f\"Generated embeddings shape: {embeddings.shape}\")"
   ]
  },
  {
   "cell_type": "code",
   "execution_count": 16,
   "metadata": {},
   "outputs": [],
   "source": [
    "import numpy as np\n",
    "import pandas as pd\n",
    "import matplotlib.pyplot as plt\n",
    "from sklearn.decomposition import PCA\n",
    "from sklearn.preprocessing import StandardScaler\n",
    "from sentence_transformers import SentenceTransformer\n",
    "\n",
    "# Standardize the embeddings before PCA (important for better results)\n",
    "scaler = StandardScaler()\n",
    "embeddings_scaled = scaler.fit_transform(embeddings)\n",
    "\n",
    "# Perform PCA to reduce to 2D or 3D\n",
    "pca = PCA(n_components=2)  # For 2D visualization, change to 3 for 3D\n",
    "pca_result = pca.fit_transform(embeddings_scaled)\n",
    "\n",
    "# Add the PCA results to your DataFrame for easier visualization\n",
    "df['PCA_x'] = pca_result[:, 0]\n",
    "df['PCA_y'] = pca_result[:, 1]"
   ]
  },
  {
   "cell_type": "code",
   "execution_count": 17,
   "metadata": {},
   "outputs": [
    {
     "data": {
      "image/png": "[encoded data removed]",
      "text/plain": [
       "<Figure size 1000x800 with 1 Axes>"
      ]
     },
     "metadata": {},
     "output_type": "display_data"
    }
   ],
   "source": [
    "# Define a color map based on categories\n",
    "category_colors = {\n",
    "    'machine learning': 'blue',\n",
    "    '3D computer vision': 'green',\n",
    "    'DNA': 'red',\n",
    "    'Nuclear Theory': 'purple',\n",
    "    'sentiment analysis': 'black',\n",
    "    'black holes': 'orange', \n",
    "    'hydropower': 'yellow'\n",
    "}\n",
    "\n",
    "# Plot the papers on a 2D scatter plot\n",
    "plt.figure(figsize=(10, 8))\n",
    "for category in df['query'].unique():\n",
    "    category_data = df[df['query'] == category]\n",
    "    plt.scatter(category_data['PCA_x'], category_data['PCA_y'], \n",
    "                label=category, color=category_colors.get(category, 'gray'), alpha=0.6, edgecolors='w', s=100)\n",
    "\n",
    "# Add labels and title\n",
    "plt.title(\"Papers in 2D PCA Space\", fontsize=16)\n",
    "plt.xlabel(\"PCA Component 1\", fontsize=14)\n",
    "plt.ylabel(\"PCA Component 2\", fontsize=14)\n",
    "plt.legend(title=\"Categories\", bbox_to_anchor=(1.05, 1), loc='upper left')\n",
    "plt.grid(True)\n",
    "plt.show()\n"
   ]
  },
  {
   "cell_type": "code",
   "execution_count": 21,
   "metadata": {},
   "outputs": [
    {
     "name": "stdout",
     "output_type": "stream",
     "text": [
      "Top relevant papers:\n",
      "\n",
      "Title: An Outlook on Nuclear Physics\n",
      "Abstract: A brief outlook on low-energy nuclear physics is presented. Selected recent\n",
      "developments in nuclear structure theory are highlighted and a few open\n",
      "questions are discussed....\n",
      "Published: 2013-01-05T15:31:08Z\n",
      "--------------------------------------------------------------------------------\n",
      "Title: Nuclear Matter and Nuclear Dynamics\n",
      "Abstract: Highlights on the recent research activity, carried out by the Italian\n",
      "Community involved in the \"Nuclear Matter and Nuclear Dynamics\" field, will be\n",
      "presented....\n",
      "Published: 2009-02-26T12:00:11Z\n",
      "--------------------------------------------------------------------------------\n",
      "Title: From the liquid drop model to lattice QCD\n",
      "Abstract: The present article aims to give a concise account of the main developments\n",
      "in nuclear structure theory, from its origin in the 1930s to date, taking the\n",
      "modelling of inter-nucleon interactions as guideline....\n",
      "Published: 2018-11-09T15:45:36Z\n",
      "--------------------------------------------------------------------------------\n"
     ]
    }
   ],
   "source": [
    "from sklearn.metrics.pairwise import cosine_similarity\n",
    "\n",
    "def search_papers(query, model, embeddings, metadata, top_k=5):\n",
    "    \"\"\"\n",
    "    Search for similar papers using cosine similarity.\n",
    "    \n",
    "    Args:\n",
    "        query (str): Search query text.\n",
    "        model: Sentence-BERT model for embeddings.\n",
    "        embeddings: Precomputed paper embeddings.\n",
    "        metadata: Paper metadata DataFrame.\n",
    "        top_k (int): Number of top results to return.\n",
    "    \"\"\"\n",
    "    # Encode the query into the same space\n",
    "    query_embedding = model.encode([query])\n",
    "    \n",
    "    # Compute cosine similarity\n",
    "    similarities = cosine_similarity(query_embedding, embeddings)[0]\n",
    "    top_indices = similarities.argsort()[-top_k:][::-1]\n",
    "    \n",
    "    # Display top results\n",
    "    print(\"Top relevant papers:\\n\")\n",
    "    for idx in top_indices:\n",
    "        print(f\"Title: {metadata.iloc[idx]['title']}\")\n",
    "        print(f\"Abstract: {metadata.iloc[idx]['summary'][:300]}...\")\n",
    "        print(f\"Published: {metadata.iloc[idx]['published']}\")\n",
    "        print(\"-\" * 80)\n",
    "\n",
    "# Example Query\n",
    "query = \"nuclear networks\"\n",
    "search_papers(query, model, embeddings, df, top_k=3)\n"
   ]
  },
  {
   "cell_type": "code",
   "execution_count": 22,
   "metadata": {},
   "outputs": [
    {
     "name": "stdout",
     "output_type": "stream",
     "text": [
      "Found 100 articles related to 'DNA sequencing'\n"
     ]
    }
   ],
   "source": [
    "import requests\n",
    "import xmltodict\n",
    "\n",
    "# Define the search query (e.g., \"DNA sequencing\")\n",
    "query = \"DNA sequencing\"\n",
    "max_results = 100  # Number of results to fetch\n",
    "\n",
    "# Define the URL for Esearch API (search PubMed)\n",
    "url = f\"https://eutils.ncbi.nlm.nih.gov/entrez/eutils/esearch.fcgi?db=pubmed&term={query}&retmax={max_results}&retmode=xml\"\n",
    "\n",
    "# Send request to PubMed\n",
    "response = requests.get(url)\n",
    "\n",
    "# Parse the XML response\n",
    "search_results = xmltodict.parse(response.content)\n",
    "\n",
    "# Extract list of PubMed IDs (PMIDs) from the response\n",
    "pmids = search_results['eSearchResult']['IdList']['Id']\n",
    "print(f\"Found {len(pmids)} articles related to '{query}'\")\n"
   ]
  },
  {
   "cell_type": "code",
   "execution_count": 27,
   "metadata": {},
   "outputs": [
    {
     "data": {
      "text/plain": [
       "'39688736'"
      ]
     },
     "execution_count": 27,
     "metadata": {},
     "output_type": "execute_result"
    }
   ],
   "source": [
    "pmids[0]"
   ]
  },
  {
   "cell_type": "code",
   "execution_count": 32,
   "metadata": {},
   "outputs": [
    {
     "ename": "AttributeError",
     "evalue": "'str' object has no attribute 'get'",
     "output_type": "error",
     "traceback": [
      "\u001b[1;31m---------------------------------------------------------------------------\u001b[0m",
      "\u001b[1;31mAttributeError\u001b[0m                            Traceback (most recent call last)",
      "Cell \u001b[1;32mIn[32], line 33\u001b[0m\n\u001b[0;32m     30\u001b[0m     \u001b[38;5;28;01mreturn\u001b[39;00m paper_details\n\u001b[0;32m     32\u001b[0m \u001b[38;5;66;03m# Fetch details for the papers using their PMIDs\u001b[39;00m\n\u001b[1;32m---> 33\u001b[0m papers_data \u001b[38;5;241m=\u001b[39m \u001b[43mfetch_paper_details\u001b[49m\u001b[43m(\u001b[49m\u001b[43mpmids\u001b[49m\u001b[43m)\u001b[49m\n\u001b[0;32m     34\u001b[0m \u001b[38;5;28mprint\u001b[39m(\u001b[38;5;124mf\u001b[39m\u001b[38;5;124m\"\u001b[39m\u001b[38;5;124mFetched details for \u001b[39m\u001b[38;5;132;01m{\u001b[39;00m\u001b[38;5;28mlen\u001b[39m(papers_data)\u001b[38;5;132;01m}\u001b[39;00m\u001b[38;5;124m papers\u001b[39m\u001b[38;5;124m\"\u001b[39m)\n",
      "Cell \u001b[1;32mIn[32], line 25\u001b[0m, in \u001b[0;36mfetch_paper_details\u001b[1;34m(pmids)\u001b[0m\n\u001b[0;32m     20\u001b[0m     publication_date \u001b[38;5;241m=\u001b[39m paper[\u001b[38;5;124m'\u001b[39m\u001b[38;5;124mMedlineCitation\u001b[39m\u001b[38;5;124m'\u001b[39m][\u001b[38;5;124m'\u001b[39m\u001b[38;5;124mArticle\u001b[39m\u001b[38;5;124m'\u001b[39m][\u001b[38;5;124m'\u001b[39m\u001b[38;5;124mJournal\u001b[39m\u001b[38;5;124m'\u001b[39m][\u001b[38;5;124m'\u001b[39m\u001b[38;5;124mJournalIssue\u001b[39m\u001b[38;5;124m'\u001b[39m][\u001b[38;5;124m'\u001b[39m\u001b[38;5;124mPubDate\u001b[39m\u001b[38;5;124m'\u001b[39m]\n\u001b[0;32m     22\u001b[0m     \u001b[38;5;66;03m# Collect data in a dictionary\u001b[39;00m\n\u001b[0;32m     23\u001b[0m     paper_details\u001b[38;5;241m.\u001b[39mappend({\n\u001b[0;32m     24\u001b[0m         \u001b[38;5;124m\"\u001b[39m\u001b[38;5;124mtitle\u001b[39m\u001b[38;5;124m\"\u001b[39m: title,\n\u001b[1;32m---> 25\u001b[0m         \u001b[38;5;124m\"\u001b[39m\u001b[38;5;124mabstract\u001b[39m\u001b[38;5;124m\"\u001b[39m: \u001b[43mextract_abstract_text\u001b[49m\u001b[43m(\u001b[49m\u001b[43mabstract\u001b[49m\u001b[43m)\u001b[49m,\n\u001b[0;32m     26\u001b[0m         \u001b[38;5;124m\"\u001b[39m\u001b[38;5;124mauthors\u001b[39m\u001b[38;5;124m\"\u001b[39m: [author[\u001b[38;5;124m'\u001b[39m\u001b[38;5;124mLastName\u001b[39m\u001b[38;5;124m'\u001b[39m] \u001b[38;5;241m+\u001b[39m \u001b[38;5;124m\"\u001b[39m\u001b[38;5;124m \u001b[39m\u001b[38;5;124m\"\u001b[39m \u001b[38;5;241m+\u001b[39m author[\u001b[38;5;124m'\u001b[39m\u001b[38;5;124mForeName\u001b[39m\u001b[38;5;124m'\u001b[39m] \u001b[38;5;28;01mfor\u001b[39;00m author \u001b[38;5;129;01min\u001b[39;00m authors],\n\u001b[0;32m     27\u001b[0m         \u001b[38;5;124m\"\u001b[39m\u001b[38;5;124mpublication_date\u001b[39m\u001b[38;5;124m\"\u001b[39m: publication_date\n\u001b[0;32m     28\u001b[0m     })\n\u001b[0;32m     30\u001b[0m \u001b[38;5;28;01mreturn\u001b[39;00m paper_details\n",
      "Cell \u001b[1;32mIn[30], line 9\u001b[0m, in \u001b[0;36mextract_abstract_text\u001b[1;34m(abstract_data)\u001b[0m\n\u001b[0;32m      6\u001b[0m abstract_text \u001b[38;5;241m=\u001b[39m []\n\u001b[0;32m      7\u001b[0m \u001b[38;5;28;01mfor\u001b[39;00m section \u001b[38;5;129;01min\u001b[39;00m abstract_data:\n\u001b[0;32m      8\u001b[0m     \u001b[38;5;66;03m# Extract only the text content, ignoring metadata\u001b[39;00m\n\u001b[1;32m----> 9\u001b[0m     abstract_text\u001b[38;5;241m.\u001b[39mappend(\u001b[43msection\u001b[49m\u001b[38;5;241;43m.\u001b[39;49m\u001b[43mget\u001b[49m(\u001b[38;5;124m'\u001b[39m\u001b[38;5;124m#text\u001b[39m\u001b[38;5;124m'\u001b[39m, \u001b[38;5;124m'\u001b[39m\u001b[38;5;124m'\u001b[39m))  \u001b[38;5;66;03m# Default to empty string if '#text' is missing\u001b[39;00m\n\u001b[0;32m     11\u001b[0m \u001b[38;5;66;03m# Combine the text from all sections\u001b[39;00m\n\u001b[0;32m     12\u001b[0m \u001b[38;5;28;01mreturn\u001b[39;00m \u001b[38;5;124m'\u001b[39m\u001b[38;5;124m \u001b[39m\u001b[38;5;124m'\u001b[39m\u001b[38;5;241m.\u001b[39mjoin(abstract_text)\n",
      "\u001b[1;31mAttributeError\u001b[0m: 'str' object has no attribute 'get'"
     ]
    }
   ],
   "source": [
    "# Define a function to fetch details of papers from PubMed\n",
    "def fetch_paper_details(pmids):\n",
    "    pmid_str = \",\".join(pmids)  # Join PMIDs into a comma-separated string\n",
    "    \n",
    "    # Define the URL for Efetch API (fetch details by PMIDs)\n",
    "    url = f\"https://eutils.ncbi.nlm.nih.gov/entrez/eutils/efetch.fcgi?db=pubmed&id={pmid_str}&retmode=xml\"\n",
    "    \n",
    "    # Send request to PubMed\n",
    "    response = requests.get(url)\n",
    "    \n",
    "    # Parse the XML response\n",
    "    papers = xmltodict.parse(response.content)['PubmedArticleSet']['PubmedArticle']\n",
    "    \n",
    "    # Extract relevant information (title, abstract, authors, etc.)\n",
    "    paper_details = []\n",
    "    for paper in papers:\n",
    "        title = paper['MedlineCitation']['Article']['ArticleTitle']\n",
    "        abstract = paper['MedlineCitation']['Article'].get('Abstract', {}).get('AbstractText', '')\n",
    "        authors = paper['MedlineCitation']['Article']['AuthorList']['Author']\n",
    "        publication_date = paper['MedlineCitation']['Article']['Journal']['JournalIssue']['PubDate']\n",
    "        \n",
    "        # Collect data in a dictionary\n",
    "        paper_details.append({\n",
    "            \"title\": title,\n",
    "            \"abstract\": extract_abstract_text(abstract),\n",
    "            \"authors\": [author['LastName'] + \" \" + author['ForeName'] for author in authors],\n",
    "            \"publication_date\": publication_date\n",
    "        })\n",
    "    \n",
    "    return paper_details\n",
    "\n",
    "# Fetch details for the papers using their PMIDs\n",
    "papers_data = fetch_paper_details(pmids)\n",
    "print(f\"Fetched details for {len(papers_data)} papers\")"
   ]
  },
  {
   "cell_type": "code",
   "execution_count": 30,
   "metadata": {},
   "outputs": [],
   "source": [
    "def extract_abstract_text(abstract_data):\n",
    "    \"\"\"\n",
    "    Given the abstract data in the format with nested labels, extract just the text content.\n",
    "    \"\"\"\n",
    "    # Extract text content from the 'text' field (i.e., '#text' key)\n",
    "    \n",
    "    if type(abstract_data) == str:\n",
    "        return abstract_data\n",
    "    \n",
    "    abstract_text = []\n",
    "    for section in abstract_data:\n",
    "        # Extract only the text content, ignoring metadata\n",
    "        abstract_text.append(section.get('#text', ''))  # Default to empty string if '#text' is missing\n",
    "    \n",
    "    # Combine the text from all sections\n",
    "    return ' '.join(abstract_text)\n"
   ]
  },
  {
   "cell_type": "code",
   "execution_count": 40,
   "metadata": {},
   "outputs": [
    {
     "data": {
      "text/plain": [
       "str"
      ]
     },
     "execution_count": 40,
     "metadata": {},
     "output_type": "execute_result"
    }
   ],
   "source": [
    "type(papers_data[1]['abstract'])"
   ]
  }
 ],
 "metadata": {
  "kernelspec": {
   "display_name": ".venv",
   "language": "python",
   "name": "python3"
  },
  "language_info": {
   "codemirror_mode": {
    "name": "ipython",
    "version": 3
   },
   "file_extension": ".py",
   "mimetype": "text/x-python",
   "name": "python",
   "nbconvert_exporter": "python",
   "pygments_lexer": "ipython3",
   "version": "3.13.1"
  }
 },
 "nbformat": 4,
 "nbformat_minor": 2
}
